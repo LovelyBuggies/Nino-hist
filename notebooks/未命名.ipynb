{
 "cells": [
  {
   "cell_type": "markdown",
   "metadata": {},
   "source": [
    "# NamedHist"
   ]
  },
  {
   "cell_type": "markdown",
   "metadata": {},
   "source": [
    "[Nino-hist](https://nino-hist.site) provides a customized histogram object named `NamedHist` for [boost-histogram](https://boost-histogram.readthedocs.io/en/latest). The new feature of `NamedHist` is to fill the axes with their names in the random order. Let's see how it works in [Nino-hist](https://nino-hist.site) `NamedHist`."
   ]
  },
  {
   "cell_type": "markdown",
   "metadata": {},
   "source": [
    "Supposed that you have installed [Nino-hist](https://nino-hist.site), you can created a `NamedHist` object like this. If you want to change the hist packaging path (for example, using as sub-project), you can go to the `setup.cfg` and modify `[options.packages.find]` in it. Initialize it using a `Regular` axis and an `Integer` axis."
   ]
  },
  {
   "cell_type": "code",
   "execution_count": null,
   "metadata": {},
   "outputs": [],
   "source": [
    "import hist\n",
    "\n",
    "h = hist.NamedHist(\n",
    "    hist.axis.Regular(10, 0, 10, name='R'),\n",
    "    hist.axis.Bool(name='B')\n",
    ")\n",
    "\n",
    "regular = [1.5, 1.5, 2.5, .35, .55, .55]\n",
    "integer = [True, True, False, False, False, False]"
   ]
  }
 ],
 "metadata": {
  "kernelspec": {
   "display_name": "Python 3",
   "language": "python",
   "name": "python3"
  },
  "language_info": {
   "codemirror_mode": {
    "name": "ipython",
    "version": 3
   },
   "file_extension": ".py",
   "mimetype": "text/x-python",
   "name": "python",
   "nbconvert_exporter": "python",
   "pygments_lexer": "ipython3",
   "version": "3.7.6"
  }
 },
 "nbformat": 4,
 "nbformat_minor": 4
}
