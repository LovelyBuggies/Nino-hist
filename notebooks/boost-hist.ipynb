{
 "cells": [
  {
   "cell_type": "markdown",
   "metadata": {},
   "source": [
    "# Boost-hist"
   ]
  },
  {
   "cell_type": "code",
   "execution_count": 1,
   "metadata": {},
   "outputs": [],
   "source": [
    "import numpy as np\n",
    "import matplotlib.pyplot as plt\n",
    "\n",
    "# Make a 1D histogram\n",
    "plt.hist(np.random.normal(size=1_000_000), np.arange(-3, 4, .5))\n",
    "plt.savefig(\"simple_1d.png\")"
   ]
  },
  {
   "cell_type": "code",
   "execution_count": 2,
   "metadata": {},
   "outputs": [
    {
     "data": {
      "image/png": "[encoded data removed]",
      "text/plain": [
       "<Figure size 432x288 with 2 Axes>"
      ]
     },
     "metadata": {
      "needs_background": "light"
     },
     "output_type": "display_data"
    }
   ],
   "source": [
    "import boost_histogram as bh\n",
    "import matplotlib.pyplot as plt\n",
    "import numpy as np\n",
    "\n",
    "# Create 2d-histogram with two axes with 20 equidistant bins from -3 to 3\n",
    "h = bh.Histogram(\n",
    "    bh.axis.Regular(50, -3, 3, metadata=\"x\"), bh.axis.Regular(50, -3, 3, metadata=\"y\")\n",
    ")\n",
    "\n",
    "# Generate some Numpy arrays with data to fill into histogram,\n",
    "# in this case normal distributed random numbers in x and y\n",
    "x = np.random.randn(1_000_000)\n",
    "y = np.random.randn(1_000_000)\n",
    "\n",
    "# Fill histogram with Numpy arrays, this is very fast\n",
    "h.fill(x, y)\n",
    "\n",
    "# Get numpy.histogram compatible representation of the histogram\n",
    "# or create a view of the counts (no copy involved)\n",
    "w, x, y = h.to_numpy()\n",
    "# x = h.axes[0].edges\n",
    "# y = h.axes[1].edges\n",
    "# w = h.view()\n",
    "\n",
    "# Draw the count matrix\n",
    "fig, ax = plt.subplots()\n",
    "mesh = ax.pcolormesh(x, y, w.T)\n",
    "ax.set_xlabel(h.axes[0].metadata)\n",
    "ax.set_ylabel(h.axes[1].metadata)\n",
    "fig.colorbar(mesh)\n",
    "plt.savefig(\"simple_2d.png\")"
   ]
  },
  {
   "cell_type": "code",
   "execution_count": 3,
   "metadata": {
    "scrolled": true
   },
   "outputs": [
    {
     "data": {
      "image/png": "[encoded data removed]",
      "text/plain": [
       "<Figure size 432x288 with 2 Axes>"
      ]
     },
     "metadata": {
      "needs_background": "light"
     },
     "output_type": "display_data"
    }
   ],
   "source": [
    "import numpy as np\n",
    "import boost_histogram as bh\n",
    "import matplotlib.pyplot as plt\n",
    "\n",
    "# Make a 2D histogram\n",
    "hist = bh.Histogram(bh.axis.Regular(50, -3, 3), bh.axis.Regular(50, -3, 3))\n",
    "\n",
    "# Fill with Gaussian random values\n",
    "hist.fill(np.random.normal(size=1_000_000), np.random.normal(size=1_000_000))\n",
    "\n",
    "# Compute the areas of each bin\n",
    "areas = np.prod(hist.axes.widths, axis=0)\n",
    "\n",
    "# Compute the density\n",
    "density = hist.view() / hist.sum() / areas\n",
    "\n",
    "# Get the edges\n",
    "X, Y = hist.axes.edges\n",
    "\n",
    "# Make the plot\n",
    "fig, ax = plt.subplots()\n",
    "mesh = ax.pcolormesh(X.T, Y.T, density.T)\n",
    "fig.colorbar(mesh)\n",
    "plt.show()"
   ]
  },
  {
   "cell_type": "code",
   "execution_count": 4,
   "metadata": {},
   "outputs": [
    {
     "name": "stdout",
     "output_type": "stream",
     "text": [
      "2.0, 2.0\n",
      "Succeeded in pickling a histogram!\n"
     ]
    }
   ],
   "source": [
    "import boost_histogram as bh\n",
    "import pickle\n",
    "from pathlib import Path\n",
    "\n",
    "h1 = bh.Histogram(bh.axis.Regular(2, -1, 1))\n",
    "h2 = h1.copy()\n",
    "\n",
    "h1.fill(-0.5)\n",
    "h2.fill(0.5)\n",
    "\n",
    "# Arithmetic operators\n",
    "h3 = h1 + h2\n",
    "h4 = h3 * 2\n",
    "\n",
    "print(f\"{h4[0]}, {h4[1]}\")\n",
    "\n",
    "h4_saved = Path(\"h4_saved.pkl\")\n",
    "\n",
    "# Now save the histogram\n",
    "with h4_saved.open(\"wb\") as f:\n",
    "    pickle.dump(h4, f, protocol=-1)\n",
    "\n",
    "# And load\n",
    "with h4_saved.open(\"rb\") as f:\n",
    "    h5 = pickle.load(f)\n",
    "\n",
    "assert h4 == h5\n",
    "print(\"Succeeded in pickling a histogram!\")\n",
    "\n",
    "# Delete the file to keep things tidy\n",
    "h4_saved.unlink()"
   ]
  },
  {
   "cell_type": "code",
   "execution_count": 5,
   "metadata": {},
   "outputs": [
    {
     "name": "stdout",
     "output_type": "stream",
     "text": [
      "WeightedSum(value=4, variance=4)\n",
      "bin 0 in [1, 10): 4.0 +/- 2.0\n",
      "WeightedSum(value=4, variance=4)\n",
      "bin 1 in [10, 100): 4.0 +/- 2.0\n",
      "WeightedSum(value=4, variance=4)\n",
      "bin 2 in [100, 1000): 4.0 +/- 2.0\n",
      "WeightedSum(value=4, variance=4)\n",
      "bin 3 in [1000, 10000): 4.0 +/- 2.0\n",
      "WeightedSum(value=4, variance=4)\n",
      "bin 4 in [10000, 100000): 4.0 +/- 2.0\n"
     ]
    }
   ],
   "source": [
    "import boost_histogram as bh\n",
    "\n",
    "# Make 1-d histogram with 5 logarithmic bins from 1e0 to 1e5\n",
    "h = bh.Histogram(\n",
    "    bh.axis.Regular(5, 1e0, 1e5, metadata=\"x\", transform=bh.axis.transform.log),\n",
    "    storage=bh.storage.Weight(),\n",
    ")\n",
    "\n",
    "# Fill histogram with numbers\n",
    "x = (2e0, 2e1, 2e2, 2e3, 2e4)\n",
    "\n",
    "# Doing this several times so the variance is more interesting\n",
    "h.fill(x, weight=1)\n",
    "h.fill(x, weight=1)\n",
    "h.fill(x, weight=1)\n",
    "h.fill(x, weight=1)\n",
    "\n",
    "# Iterate over bins and access bin counter\n",
    "for idx, (lower, upper) in enumerate(h.axes[0]):\n",
    "    val = h[idx]\n",
    "    print(val)\n",
    "    print(f\"bin {idx} in [{lower:g}, {upper:g}): {val.value} +/- {val.variance**.5}\")"
   ]
  },
  {
   "cell_type": "code",
   "execution_count": 6,
   "metadata": {},
   "outputs": [
    {
     "name": "stdout",
     "output_type": "stream",
     "text": [
      "bin 0 [1, 10): 16.0 +/- 8.0\n",
      "bin 1 [10, 100): 16.0 +/- 8.0\n",
      "bin 2 [100, 1000): 16.0 +/- 8.0\n",
      "bin 3 [1000, 10000): 16.0 +/- 8.0\n",
      "bin 4 [10000, 100000): 16.0 +/- 8.0\n",
      "underflow [0, 1): 0.0 +/- 0.0\n",
      "overflow  [100000, inf): 0.0 +/- 0.0\n"
     ]
    }
   ],
   "source": [
    "import boost_histogram as bh\n",
    "\n",
    "# make 1-d histogram with 5 logarithmic bins from 1e0 to 1e5\n",
    "h = bh.Histogram(\n",
    "    bh.axis.Regular(5, 1e0, 1e5, metadata=\"x\", transform=bh.axis.transform.log),\n",
    "    storage=bh.storage.Weight(),\n",
    ")\n",
    "\n",
    "# fill histogram with numbers\n",
    "x = (2e0, 2e1, 2e2, 2e3, 2e4)\n",
    "h.fill(x, weight=4)\n",
    "h.fill(x, weight=4)\n",
    "h.fill(x, weight=4)\n",
    "h.fill(x, weight=4)\n",
    "\n",
    "# iterate over bins and access bin counter\n",
    "for idx, (lower, upper) in enumerate(h.axes[0]):\n",
    "    val = h[idx]\n",
    "    print(\n",
    "        \"bin {0} [{1:g}, {2:g}): {3} +/- {4}\".format(\n",
    "            idx, lower, upper, val.value, val.variance ** 0.5\n",
    "        )\n",
    "    )\n",
    "\n",
    "# under- and overflow bin\n",
    "lo, up = h.axes[0][bh.underflow]\n",
    "print(\n",
    "    \"underflow [{0:g}, {1:g}): {2} +/- {3}\".format(\n",
    "        lo, up, h[bh.underflow].value, h[bh.overflow].variance ** 0.5\n",
    "    )\n",
    ")\n",
    "lo, up = h.axes[0][bh.overflow]\n",
    "print(\n",
    "    \"overflow  [{0:g}, {1:g}): {2} +/- {3}\".format(\n",
    "        lo, up, h[bh.overflow].value, h[bh.overflow].variance ** 0.5\n",
    "    )\n",
    ")\n"
   ]
  }
 ],
 "metadata": {
  "kernelspec": {
   "display_name": "Python 3",
   "language": "python",
   "name": "python3"
  },
  "language_info": {
   "codemirror_mode": {
    "name": "ipython",
    "version": 3
   },
   "file_extension": ".py",
   "mimetype": "text/x-python",
   "name": "python",
   "nbconvert_exporter": "python",
   "pygments_lexer": "ipython3",
   "version": "3.7.6"
  }
 },
 "nbformat": 4,
 "nbformat_minor": 4
}
