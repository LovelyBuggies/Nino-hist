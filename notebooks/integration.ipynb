{
 "cells": [
  {
   "cell_type": "markdown",
   "metadata": {},
   "source": [
    "# External Integration"
   ]
  },
  {
   "cell_type": "markdown",
   "metadata": {},
   "source": [
    "## General"
   ]
  },
  {
   "cell_type": "markdown",
   "metadata": {},
   "source": [
    "[Nino-hist](https://nino-hist.site) is a systematic tool based on [boost-histogram](https://boost-histogram.readthedocs.io/en/latest). The HEP analysis is a complicated process and relies on many other [(Sckit-HEP) tools](https://scikit-hep.org/). Thus, it's intuitive for [Nino-hist](https://nino-hist.site) to support the integration of these external packages and modules. In this part, we will demonstrate how [Nino-hist](https://nino-hist.site) works and its interaction with other [(Sckit-HEP) tools](https://scikit-hep.org/)."
   ]
  },
  {
   "cell_type": "markdown",
   "metadata": {},
   "source": [
    "A brief workflow of HEP analysis is as below:\n",
    "\n",
    "![](https://tva1.sinaimg.cn/large/00831rSTly1gd40ndja44j30lk058q3d.jpg)"
   ]
  },
  {
   "cell_type": "markdown",
   "metadata": {},
   "source": [
    "## De/serialization\n",
    "\n",
    "If we want to analysis data, what do we need to do first? To load the data files, of course! How do we do it? It denpends on the file, of course! \n",
    "\n",
    "### pickle Integration\n",
    "\n",
    "We could use [pickle](https://docs.python.org/3/library/pickle.html) to deal with it like this:"
   ]
  },
  {
   "cell_type": "code",
   "execution_count": 1,
   "metadata": {},
   "outputs": [
    {
     "name": "stdout",
     "output_type": "stream",
     "text": [
      "2.0, 2.0\n",
      "Succeeded in pickling a histogram!\n"
     ]
    }
   ],
   "source": [
    "import hist\n",
    "import pickle\n",
    "from pathlib import Path\n",
    "\n",
    "h1 = hist.Hist(hist.axis.Regular(2, -1, 1, name='h_1'))\n",
    "h2 = h1.copy()\n",
    "h2.name = 'h_2'\n",
    "\n",
    "h1.fill(-0.5)\n",
    "h2.fill(0.5)\n",
    "\n",
    "# Arithmetic operators\n",
    "h3 = h1 + h2\n",
    "h2.name = 'h_3'\n",
    "h4 = h3 * 2\n",
    "h2.name = 'h_4'\n",
    "\n",
    "print(f\"{h4[0]}, {h4[1]}\")\n",
    "\n",
    "h4_saved = Path(\"pickle_file.pkl\")\n",
    "\n",
    "# Now save the histogram\n",
    "with h4_saved.open(\"wb\") as f:\n",
    "    pickle.dump(h4, f, protocol=-1)\n",
    "\n",
    "# And load\n",
    "with h4_saved.open(\"rb\") as f:\n",
    "    h5 = pickle.load(f)\n",
    "\n",
    "assert h4 == h5\n",
    "print(\"Succeeded in pickling a histogram!\")\n",
    "\n",
    "# Delete the file to keep things tidy\n",
    "# h4_saved.unlink()"
   ]
  },
  {
   "cell_type": "markdown",
   "metadata": {},
   "source": [
    "### aghast Integration"
   ]
  },
  {
   "cell_type": "markdown",
   "metadata": {},
   "source": [
    "Though [pickle](https://docs.python.org/3/library/pickle.html) is capable for serialization and deserialization, we sometimes need to use ROOT files for loading and saving data in HEP analysis. Initially, we expect to use [aghast](https://github.com/scikit-hep/aghast) for [Nino-hist](https://nino-hist.site) to interactive with ROOT files. While it's not pure Pythonic and not installable on PyPI, currently. Thus, here we first demonstrate the availability of [aghast](https://github.com/scikit-hep/aghast) and then show how to save and load our histograms by [aghast](https://github.com/scikit-hep/aghast)'s underlying [uproot](https://github.com/scikit-hep/uproot). [aghast](https://github.com/scikit-hep/aghast) is a histogramming library that does not fill histograms and does not plot them. Its role is behind the scenes, to provide better communication between histogramming libraries.\n",
    "\n",
    "As we need to make [Nino-hist](https://nino-hist.site) available to communicate with [aghast](https://github.com/scikit-hep/aghast), that is, to change [aghast](https://github.com/scikit-hep/aghast)'s histograms to [aghast](https://github.com/scikit-hep/aghast)'s histograms."
   ]
  },
  {
   "cell_type": "code",
   "execution_count": 2,
   "metadata": {},
   "outputs": [
    {
     "name": "stdout",
     "output_type": "stream",
     "text": [
      "Histogram(\n",
      "  axis=[\n",
      "    Axis(binning=RegularBinning(num=50, interval=RealInterval(low=-3.0, high=2.9999999999999996)))\n",
      "  ],\n",
      "  counts=\n",
      "    WeightedCounts(\n",
      "      sumw=\n",
      "        InterpretedInlineFloat64Buffer(\n",
      "          buffer=\n",
      "              [  633.   841.  1273.  1817.  2324.  3077.  4077.  5304.  6775.  8417.\n",
      "               10582. 12991. 15554. 18490. 21941. 25120. 28839. 31609. 35316. 38458.\n",
      "               41635. 43466. 45603. 46843. 47655. 47754. 47388. 45594. 43733. 41031.\n",
      "               38711. 35442. 32205. 28463. 24793. 21814. 18531. 15621. 12792. 10405.\n",
      "                8297.  6747.  5341.  4026.  3103.  2294.  1776.  1233.   893.   627.])))\n"
     ]
    }
   ],
   "source": [
    "import aghast\n",
    "import numpy as np\n",
    "import matplotlib.pyplot as plt\n",
    "\n",
    "h = hist.Hist(hist.axis.Regular(50, -3, 3, name='x'))\n",
    "h.fill(np.random.normal(size=1_000_000))\n",
    "ghastly_hist = aghast.from_numpy(h.to_numpy())\n",
    "ghastly_hist.dump()"
   ]
  },
  {
   "cell_type": "markdown",
   "metadata": {},
   "source": [
    "See, it works! We are looking forward to [aghast](https://github.com/scikit-hep/aghast)'s update, and we can use the `ghastly_hist` for better use.\n",
    "\n",
    "I am sure it will be a shortcut for file serialization and deserialization."
   ]
  },
  {
   "cell_type": "markdown",
   "metadata": {},
   "source": [
    "### uproot Integration\n",
    "\n",
    "Now that [aghast](https://github.com/scikit-hep/aghast) need the more detailed development to support serialization and deserialization for our [Nino-hist](https://nino-hist.site), we have to use [uproot](https://github.com/scikit-hep/uproot) to demonstrate how can we save and load histograms in [Nino-hist](https://nino-hist.site) by ROOT files.\n",
    "\n",
    "[uproot](https://github.com/scikit-hep/uproot) is the most classical ROOT I/O in Python. It is a reader and a writer of the [ROOT file format](https://root.cern/) using only Python and Numpy. Unlike the standard C++ ROOT implementation, uproot is only an I/O library, primarily intended to stream data into machine learning libraries in Python. Unlike PyROOT and root_numpy, uproot does not depend on C++ ROOT. Instead, it uses Numpy to cast blocks of data from the ROOT file as Numpy arrays.\n",
    "\n",
    "The first thing we need to do is to create [Nino-hist](https://nino-hist.site)'s histograms as normal."
   ]
  },
  {
   "cell_type": "code",
   "execution_count": 3,
   "metadata": {},
   "outputs": [],
   "source": [
    "import hist\n",
    "import uproot\n",
    "import numpy as np\n",
    "import matplotlib.pyplot as plt\n",
    "\n",
    "file = uproot.recreate(\"demo_root_file.root\")\n",
    "h = hist.Hist(hist.axis.Regular(20, -3, 3, name='x'))\n",
    "h.fill(np.random.normal(size=1_000))\n",
    "\n",
    "w, data = h.to_numpy()"
   ]
  },
  {
   "cell_type": "markdown",
   "metadata": {},
   "source": [
    "Here, we use a little tricks. First, we convert the [Nino-hist](https://nino-hist.site)'s histogram to a Numpy histogram. And then write the histogram as well as a title to the `demo_root_file.root`. We load the demo to another file, printing the title, showing the histogram."
   ]
  },
  {
   "cell_type": "code",
   "execution_count": 4,
   "metadata": {},
   "outputs": [
    {
     "name": "stdout",
     "output_type": "stream",
     "text": [
      "A histogram\n",
      "                 0                                                         134.4\n",
      "                 +-------------------------------------------------------------+\n",
      "[-inf, -3)   0   |                                                             |\n",
      "[-3, -2.7)   3   |*                                                            |\n",
      "[-2.7, -2.4) 6   |***                                                          |\n",
      "[-2.4, -2.1) 7   |***                                                          |\n",
      "[-2.1, -1.8) 19  |*********                                                    |\n",
      "[-1.8, -1.5) 31  |**************                                               |\n",
      "[-1.5, -1.2) 51  |***********************                                      |\n",
      "[-1.2, -0.9) 57  |**************************                                   |\n",
      "[-0.9, -0.6) 97  |********************************************                 |\n",
      "[-0.6, -0.3) 104 |***********************************************              |\n",
      "[-0.3, 0)    117 |*****************************************************        |\n",
      "[0, 0.3)     128 |**********************************************************   |\n",
      "[0.3, 0.6)   108 |*************************************************            |\n",
      "[0.6, 0.9)   101 |**********************************************               |\n",
      "[0.9, 1.2)   59  |***************************                                  |\n",
      "[1.2, 1.5)   48  |**********************                                       |\n",
      "[1.5, 1.8)   26  |************                                                 |\n",
      "[1.8, 2.1)   20  |*********                                                    |\n",
      "[2.1, 2.4)   8   |****                                                         |\n",
      "[2.4, 2.7)   4   |**                                                           |\n",
      "[2.7, 3)     2   |*                                                            |\n",
      "[3, inf]     0   |                                                             |\n",
      "                 +-------------------------------------------------------------+\n"
     ]
    }
   ],
   "source": [
    "file['title'] = 'A histogram'\n",
    "file['h'] = np.histogram(data[:-1], bins=data, weights=w)\n",
    "file2 = uproot.open(\"demo_root_file.root\")\n",
    "print(file2['title'])\n",
    "file2['h'].show()"
   ]
  },
  {
   "cell_type": "markdown",
   "metadata": {},
   "source": [
    "Note that [uproot](https://github.com/scikit-hep/uproot) is a pretty large package which supports many functionalities. Here, we just demonstate how to save and load ROOT files. You can go to the origin to see more information."
   ]
  },
  {
   "cell_type": "markdown",
   "metadata": {},
   "source": [
    "## Histogram\n",
    "\n",
    "### Nino-hist\n",
    "\n",
    "[Nino-hist](https://nino-hist.site) acts as the histogramming part, i.e., \"Data\" to \"Histogram\", in HEP analysis workflow. It is based on [boost-histogram](https://boost-histogram.readthedocs.io/en/latest), meaning that you can do whatever you like in [boost-histogram](https://boost-histogram.readthedocs.io/en/latest) with histograms of [Nino-hist](https://nino-hist.site). Let's see some examples."
   ]
  },
  {
   "cell_type": "markdown",
   "metadata": {},
   "source": [
    "First, we will re-use the 2D-density histogram example of [boost-histogram](https://boost-histogram.readthedocs.io/en/latest)."
   ]
  },
  {
   "cell_type": "code",
   "execution_count": 5,
   "metadata": {},
   "outputs": [
    {
     "data": {
      "image/png": "[encoded data removed]",
      "text/plain": [
       "<Figure size 432x288 with 2 Axes>"
      ]
     },
     "metadata": {
      "needs_background": "light"
     },
     "output_type": "display_data"
    }
   ],
   "source": [
    "import hist\n",
    "import numpy as np\n",
    "import matplotlib.pyplot as plt\n",
    "\n",
    "# Make a 2D histogram\n",
    "h = hist.Hist(hist.axis.Regular(50, -3, 3, name='x'), hist.axis.Regular(50, -3, 3, name='y'))\n",
    "\n",
    "# Fill with Gaussian random values\n",
    "h.fill(np.random.normal(size=1_000_000), np.random.normal(size=1_000_000))\n",
    "\n",
    "# Compute the areas of each bin\n",
    "areas = np.prod(h.axes.widths, axis=0)\n",
    "\n",
    "# Compute the density\n",
    "density = h.view() / h.sum() / areas\n",
    "\n",
    "# Get the edges\n",
    "X, Y = h.axes.edges\n",
    "\n",
    "# Make the plot\n",
    "fig, ax = plt.subplots()\n",
    "mesh = ax.pcolormesh(X.T, Y.T, density.T)\n",
    "fig.colorbar(mesh)\n",
    "plt.show()"
   ]
  },
  {
   "cell_type": "markdown",
   "metadata": {},
   "source": [
    "Nice! This is good, because this means that you can migrate your [boost-histogram](https://boost-histogram.readthedocs.io/en/latest) codes to [Nino-hist](https://nino-hist.site) directly.\n",
    "\n",
    "Another example:"
   ]
  },
  {
   "cell_type": "code",
   "execution_count": 6,
   "metadata": {},
   "outputs": [
    {
     "name": "stdout",
     "output_type": "stream",
     "text": [
      "WeightedSum(value=4, variance=4)\n",
      "bin 0 in [1, 10): 4.0 +/- 2.0\n",
      "WeightedSum(value=4, variance=4)\n",
      "bin 1 in [10, 100): 4.0 +/- 2.0\n",
      "WeightedSum(value=4, variance=4)\n",
      "bin 2 in [100, 1000): 4.0 +/- 2.0\n",
      "WeightedSum(value=4, variance=4)\n",
      "bin 3 in [1000, 10000): 4.0 +/- 2.0\n",
      "WeightedSum(value=4, variance=4)\n",
      "bin 4 in [10000, 100000): 4.0 +/- 2.0\n"
     ]
    }
   ],
   "source": [
    "import hist\n",
    "import boost_histogram as bh\n",
    "\n",
    "# Make 1-d histogram with 5 logarithmic bins from 1e0 to 1e5\n",
    "h = hist.Hist(\n",
    "    hist.axis.Regular(5, 1e0, 1e5, name=\"x\", transform=bh.axis.transform.log),\n",
    "    storage=bh.storage.Weight(),\n",
    ")\n",
    "\n",
    "# Fill histogram with numbers\n",
    "x = (2e0, 2e1, 2e2, 2e3, 2e4)\n",
    "\n",
    "# Doing this several times so the variance is more interesting\n",
    "h.fill(x, weight=1)\n",
    "h.fill(x, weight=1)\n",
    "h.fill(x, weight=1)\n",
    "h.fill(x, weight=1)\n",
    "\n",
    "# Iterate over bins and access bin counter\n",
    "for idx, (lower, upper) in enumerate(h.axes[0]):\n",
    "    val = h[idx]\n",
    "    print(val)\n",
    "    print(f\"bin {idx} in [{lower:g}, {upper:g}): {val.value} +/- {val.variance**.5}\")"
   ]
  },
  {
   "cell_type": "markdown",
   "metadata": {},
   "source": [
    "We haven't define `Storage` and `transform` for [Nino-hist](https://nino-hist.site) yet, so you cannot directly use them in our package, but [Nino-hist](https://nino-hist.site)'s compatibility with [boost-histogram](https://boost-histogram.readthedocs.io/en/latest) is good, so you can use whatever you need by citing [boost-histogram](https://boost-histogram.readthedocs.io/en/latest)'s corresponding modules."
   ]
  },
  {
   "cell_type": "markdown",
   "metadata": {},
   "source": [
    "To sum up, [Nino-hist](https://nino-hist.site) acts as the core part in HEP analysis workflow, allowing us to histogram data. This is valuable for \"Data\" to \"Histogram\" in HEP analyse workflow!"
   ]
  },
  {
   "cell_type": "markdown",
   "metadata": {},
   "source": [
    "## Analysis\n",
    "\n",
    "Here we are going to show how some [(Sckit-HEP)](https://scikit-hep.org/) analysis tools are integrated to our package.\n",
    "\n",
    "### iminuit Integration\n",
    "\n",
    "[iminuit](https://iminuit.readthedocs.io/en/latest/index.html) is most commonly used for likelihood fits of models to data, and to get model parameter error estimates from likelihood profile analysis. It's a numerical minimizer and error calculator. You provide it an analytical function, which accepts one or several parameters, and an initial guess of the parameter values. It will then find a local minimum of this function starting from the initial guess. In that regard, [iminuit](https://iminuit.readthedocs.io/en/latest/index.html) is similar to other minimizers, like those in `scipy.optimize`."
   ]
  },
  {
   "cell_type": "markdown",
   "metadata": {},
   "source": [
    "Let's use an example to see how can [iminuit](https://iminuit.readthedocs.io/en/latest/index.html) fits the data in [Nino-hist](https://nino-hist.site)."
   ]
  },
  {
   "cell_type": "code",
   "execution_count": 7,
   "metadata": {},
   "outputs": [
    {
     "data": {
      "text/plain": [
       "Hist(Regular(20, 0, 10, underflow=False, overflow=False, metadata={'name': 'iminuit', 'title': None}), storage=Double()) # Sum: 844.3786162013363"
      ]
     },
     "execution_count": 7,
     "metadata": {},
     "output_type": "execute_result"
    },
    {
     "data": {
      "image/png": "[encoded data removed]",
      "text/plain": [
       "<Figure size 432x288 with 1 Axes>"
      ]
     },
     "metadata": {
      "needs_background": "light"
     },
     "output_type": "display_data"
    }
   ],
   "source": [
    "import hist\n",
    "import numpy as np\n",
    "import matplotlib.pyplot as plt\n",
    "\n",
    "k = 3.\n",
    "b = 2.\n",
    "data_x = np.arange(0, 10, .2)\n",
    "offset = np.random.normal(size=50)\n",
    "data_y = k * data_x + b + offset\n",
    "\n",
    "plt.bar(data_x, data_y, width=0.1)\n",
    "\n",
    "h = hist.Hist(\n",
    "    hist.axis.Regular(20, 0, 10, name='iminuit', underflow=False, overflow=False)\n",
    ")\n",
    "\n",
    "h.fill(data_x, weight=data_y)"
   ]
  },
  {
   "cell_type": "markdown",
   "metadata": {},
   "source": [
    "By this way, we create and fill a histogram with the linear distribution, i.e., the weight of each bin is the multiple of its index. Of course you can also use a histogram loading by serialization. Back to the point, it's a linear distribution, and we want to use a fitter to get its slope `k` and intercept `b`."
   ]
  },
  {
   "cell_type": "markdown",
   "metadata": {},
   "source": [
    "First, we need to access the data (the weight of histogram) and define the error func to be minimized."
   ]
  },
  {
   "cell_type": "code",
   "execution_count": 8,
   "metadata": {},
   "outputs": [],
   "source": [
    "y, x = h.to_numpy()\n",
    "\n",
    "def least_squares_np(par):  # par is a numpy array here \n",
    "    mu = np.polyval(par, data_x)  # for par = (a, b) this is a line\n",
    "    yvar = 0.01\n",
    "    return np.sum((data_y - mu) ** 2 / yvar)"
   ]
  },
  {
   "cell_type": "markdown",
   "metadata": {},
   "source": [
    "Then, we will initialized the parameters in an array (two elements in this linear case), the step size, and the error definition (`errordef = 0.5` for negative log-likelihood functions, `errordef = 1` for least-squares functions). You are able to see the minuit initial states use `get_param_states()`."
   ]
  },
  {
   "cell_type": "code",
   "execution_count": 9,
   "metadata": {},
   "outputs": [
    {
     "data": {
      "text/html": [
       "<table>\n",
       "<tr style=\"background-color:#F4F4F4;\">\n",
       "<td/>\n",
       "<th title=\"Variable name\">\n",
       "Name\n",
       "</th>\n",
       "<th title=\"Value of parameter\">\n",
       "Value\n",
       "</th>\n",
       "<th title=\"Hesse error\">\n",
       "Hesse Error\n",
       "</th>\n",
       "<th title=\"Minos lower error\">\n",
       "Minos Error-\n",
       "</th>\n",
       "<th title=\"Minos upper error\">\n",
       "Minos Error+\n",
       "</th>\n",
       "<th title=\"Lower limit of the parameter\">\n",
       "Limit-\n",
       "</th>\n",
       "<th title=\"Upper limit of the parameter\">\n",
       "Limit+\n",
       "</th>\n",
       "<th title=\"Is the parameter fixed in the fit\">\n",
       "Fixed\n",
       "</th>\n",
       "</tr>\n",
       "<tr style=\"background-color:#FFFFFF;\">\n",
       "<td>\n",
       "0\n",
       "</td>\n",
       "<td>\n",
       "k\n",
       "</td>\n",
       "<td>\n",
       "5.00\n",
       "</td>\n",
       "<td>\n",
       "0.10\n",
       "</td>\n",
       "<td>\n",
       "\n",
       "</td>\n",
       "<td>\n",
       "\n",
       "</td>\n",
       "<td>\n",
       "\n",
       "</td>\n",
       "<td>\n",
       "\n",
       "</td>\n",
       "<td>\n",
       "\n",
       "</td>\n",
       "</tr>\n",
       "<tr style=\"background-color:#F4F4F4;\">\n",
       "<td>\n",
       "1\n",
       "</td>\n",
       "<td>\n",
       "b\n",
       "</td>\n",
       "<td>\n",
       "5.00\n",
       "</td>\n",
       "<td>\n",
       "0.10\n",
       "</td>\n",
       "<td>\n",
       "\n",
       "</td>\n",
       "<td>\n",
       "\n",
       "</td>\n",
       "<td>\n",
       "\n",
       "</td>\n",
       "<td>\n",
       "\n",
       "</td>\n",
       "<td>\n",
       "\n",
       "</td>\n",
       "</tr>\n",
       "</table>\n"
      ],
      "text/plain": [
       "------------------------------------------------------------------------------------------\n",
       "|   | Name |   Value   | Hesse Err | Minos Err- | Minos Err+ | Limit-  | Limit+  | Fixed |\n",
       "------------------------------------------------------------------------------------------\n",
       "| 0 | k    |   5.00    |   0.10    |            |            |         |         |       |\n",
       "| 1 | b    |   5.00    |   0.10    |            |            |         |         |       |\n",
       "------------------------------------------------------------------------------------------"
      ]
     },
     "execution_count": 9,
     "metadata": {},
     "output_type": "execute_result"
    }
   ],
   "source": [
    "from iminuit import Minuit\n",
    "\n",
    "m = Minuit.from_array_func(least_squares_np, (5, 5), error=(0.1, 0.1), errordef=1, name=('k', 'b'))\n",
    "m.get_param_states()"
   ]
  },
  {
   "cell_type": "markdown",
   "metadata": {},
   "source": [
    "And it's time for fitting! It's pretty handy in [iminuit](https://iminuit.readthedocs.io/en/latest/index.html), just `m.migrad()` is ok. Of course you can use more specific methods like fixed, limits, fast fitting methods, etc. This is just the simplest way to fit."
   ]
  },
  {
   "cell_type": "code",
   "execution_count": 10,
   "metadata": {},
   "outputs": [
    {
     "data": {
      "text/html": [
       "<table>\n",
       "<tr>\n",
       "<td colspan=\"2\" title=\"Minimum value of function\">\n",
       "FCN = 5340\n",
       "</td>\n",
       "<td align=\"center\" colspan=\"3\" title=\"No. of calls in last algorithm and total number of calls\">\n",
       "Ncalls = 34 (34 total)\n",
       "</td>\n",
       "</tr>\n",
       "<tr>\n",
       "<td colspan=\"2\" title=\"Estimated distance to minimum and target threshold\">\n",
       "EDM = 1.47E-19 (Goal: 1E-05)\n",
       "</td>\n",
       "<td align=\"center\" colspan=\"3\" title=\"Increase in FCN which corresponds to 1 standard deviation\">\n",
       "up = 1.0\n",
       "</td>\n",
       "</tr>\n",
       "<tr>\n",
       "<td align=\"center\" title=\"Validity of the migrad call\">\n",
       "Valid Min.\n",
       "</td>\n",
       "<td align=\"center\" title=\"Validity of parameters\">\n",
       "Valid Param.\n",
       "</td>\n",
       "<td align=\"center\" title=\"Is EDM above goal EDM?\">\n",
       "Above EDM\n",
       "</td>\n",
       "<td align=\"center\" colspan=\"2\" title=\"Did last migrad call reach max call limit?\">\n",
       "Reached call limit\n",
       "</td>\n",
       "</tr>\n",
       "<tr>\n",
       "<td align=\"center\" style=\"background-color:#92CCA6;\">\n",
       "True\n",
       "</td>\n",
       "<td align=\"center\" style=\"background-color:#92CCA6;\">\n",
       "True\n",
       "</td>\n",
       "<td align=\"center\" style=\"background-color:#92CCA6;\">\n",
       "False\n",
       "</td>\n",
       "<td align=\"center\" colspan=\"2\" style=\"background-color:#92CCA6;\">\n",
       "False\n",
       "</td>\n",
       "</tr>\n",
       "<tr>\n",
       "<td align=\"center\" title=\"Did Hesse fail?\">\n",
       "Hesse failed\n",
       "</td>\n",
       "<td align=\"center\" title=\"Has covariance matrix\">\n",
       "Has cov.\n",
       "</td>\n",
       "<td align=\"center\" title=\"Is covariance matrix accurate?\">\n",
       "Accurate\n",
       "</td>\n",
       "<td align=\"center\" title=\"Is covariance matrix positive definite?\">\n",
       "Pos. def.\n",
       "</td>\n",
       "<td align=\"center\" title=\"Was positive definiteness enforced by Minuit?\">\n",
       "Forced\n",
       "</td>\n",
       "</tr>\n",
       "<tr>\n",
       "<td align=\"center\" style=\"background-color:#92CCA6;\">\n",
       "False\n",
       "</td>\n",
       "<td align=\"center\" style=\"background-color:#92CCA6;\">\n",
       "True\n",
       "</td>\n",
       "<td align=\"center\" style=\"background-color:#92CCA6;\">\n",
       "True\n",
       "</td>\n",
       "<td align=\"center\" style=\"background-color:#92CCA6;\">\n",
       "True\n",
       "</td>\n",
       "<td align=\"center\" style=\"background-color:#92CCA6;\">\n",
       "False\n",
       "</td>\n",
       "</tr>\n",
       "</table>\n",
       "<table>\n",
       "<tr style=\"background-color:#F4F4F4;\">\n",
       "<td/>\n",
       "<th title=\"Variable name\">\n",
       "Name\n",
       "</th>\n",
       "<th title=\"Value of parameter\">\n",
       "Value\n",
       "</th>\n",
       "<th title=\"Hesse error\">\n",
       "Hesse Error\n",
       "</th>\n",
       "<th title=\"Minos lower error\">\n",
       "Minos Error-\n",
       "</th>\n",
       "<th title=\"Minos upper error\">\n",
       "Minos Error+\n",
       "</th>\n",
       "<th title=\"Lower limit of the parameter\">\n",
       "Limit-\n",
       "</th>\n",
       "<th title=\"Upper limit of the parameter\">\n",
       "Limit+\n",
       "</th>\n",
       "<th title=\"Is the parameter fixed in the fit\">\n",
       "Fixed\n",
       "</th>\n",
       "</tr>\n",
       "<tr style=\"background-color:#FFFFFF;\">\n",
       "<td>\n",
       "0\n",
       "</td>\n",
       "<td>\n",
       "k\n",
       "</td>\n",
       "<td>\n",
       "3.000\n",
       "</td>\n",
       "<td>\n",
       "0.005\n",
       "</td>\n",
       "<td>\n",
       "\n",
       "</td>\n",
       "<td>\n",
       "\n",
       "</td>\n",
       "<td>\n",
       "\n",
       "</td>\n",
       "<td>\n",
       "\n",
       "</td>\n",
       "<td>\n",
       "\n",
       "</td>\n",
       "</tr>\n",
       "<tr style=\"background-color:#F4F4F4;\">\n",
       "<td>\n",
       "1\n",
       "</td>\n",
       "<td>\n",
       "b\n",
       "</td>\n",
       "<td>\n",
       "2.189\n",
       "</td>\n",
       "<td>\n",
       "0.028\n",
       "</td>\n",
       "<td>\n",
       "\n",
       "</td>\n",
       "<td>\n",
       "\n",
       "</td>\n",
       "<td>\n",
       "\n",
       "</td>\n",
       "<td>\n",
       "\n",
       "</td>\n",
       "<td>\n",
       "\n",
       "</td>\n",
       "</tr>\n",
       "</table>\n"
      ],
      "text/plain": [
       "------------------------------------------------------------------\n",
       "| FCN = 5340                    |      Ncalls=34 (34 total)      |\n",
       "| EDM = 1.47E-19 (Goal: 1E-05)  |            up = 1.0            |\n",
       "------------------------------------------------------------------\n",
       "|  Valid Min.   | Valid Param.  | Above EDM | Reached call limit |\n",
       "------------------------------------------------------------------\n",
       "|     True      |     True      |   False   |       False        |\n",
       "------------------------------------------------------------------\n",
       "| Hesse failed  |   Has cov.    | Accurate  | Pos. def. | Forced |\n",
       "------------------------------------------------------------------\n",
       "|     False     |     True      |   True    |   True    | False  |\n",
       "------------------------------------------------------------------\n",
       "------------------------------------------------------------------------------------------\n",
       "|   | Name |   Value   | Hesse Err | Minos Err- | Minos Err+ | Limit-  | Limit+  | Fixed |\n",
       "------------------------------------------------------------------------------------------\n",
       "| 0 | k    |   3.000   |   0.005   |            |            |         |         |       |\n",
       "| 1 | b    |   2.189   |   0.028   |            |            |         |         |       |\n",
       "------------------------------------------------------------------------------------------"
      ]
     },
     "execution_count": 10,
     "metadata": {},
     "output_type": "execute_result"
    }
   ],
   "source": [
    "m.migrad()\n",
    "# m.get_param_states()"
   ]
  },
  {
   "cell_type": "markdown",
   "metadata": {},
   "source": [
    "Nice! It's almost true! Next, we want to visualized our fitting (the correlationship of two params and the params' scopes)."
   ]
  },
  {
   "cell_type": "markdown",
   "metadata": {},
   "source": [
    "We can analysis the correlationship of the params to eliminate some of them."
   ]
  },
  {
   "cell_type": "code",
   "execution_count": 11,
   "metadata": {},
   "outputs": [
    {
     "data": {
      "text/html": [
       "<table>\n",
       "<tr>\n",
       "<td/>\n",
       "\n",
       "<th>\n",
       "k\n",
       "</th>\n",
       "<th>\n",
       "b\n",
       "</th>\n",
       "</tr>\n",
       "<tr>\n",
       "<th>\n",
       "k\n",
       "</th>\n",
       "<td>\n",
       " 1.00\n",
       "</td>\n",
       "<td style=\"background-color:rgb(138,138,250)\">\n",
       "-0.86\n",
       "</td>\n",
       "</tr>\n",
       "<tr>\n",
       "<th>\n",
       "b\n",
       "</th>\n",
       "<td style=\"background-color:rgb(138,138,250)\">\n",
       "-0.86\n",
       "</td>\n",
       "<td>\n",
       " 1.00\n",
       "</td>\n",
       "</tr>\n",
       "</table>\n"
      ],
      "text/plain": [
       "-----------------\n",
       "|   |    k    b |\n",
       "-----------------\n",
       "| k |  1.0 -0.9 |\n",
       "| b | -0.9  1.0 |\n",
       "-----------------"
      ]
     },
     "execution_count": 11,
     "metadata": {},
     "output_type": "execute_result"
    }
   ],
   "source": [
    "m.matrix(correlation=True)"
   ]
  },
  {
   "cell_type": "markdown",
   "metadata": {},
   "source": [
    "We can also use contour to represent it."
   ]
  },
  {
   "cell_type": "code",
   "execution_count": 12,
   "metadata": {},
   "outputs": [
    {
     "data": {
      "image/png": "[encoded data removed]",
      "text/plain": [
       "<Figure size 432x288 with 1 Axes>"
      ]
     },
     "metadata": {
      "needs_background": "light"
     },
     "output_type": "display_data"
    }
   ],
   "source": [
    "m.draw_mncontour('k','b', nsigma=5);  # draw five contours from sigma=1 to 5\n",
    "# m.draw_contour('k','b');"
   ]
  },
  {
   "cell_type": "markdown",
   "metadata": {},
   "source": [
    "We can also view the scope of those params."
   ]
  },
  {
   "cell_type": "code",
   "execution_count": 13,
   "metadata": {},
   "outputs": [
    {
     "data": {
      "image/png": "[encoded data removed]",
      "text/plain": [
       "<Figure size 432x288 with 1 Axes>"
      ]
     },
     "metadata": {
      "needs_background": "light"
     },
     "output_type": "display_data"
    }
   ],
   "source": [
    "m.draw_profile('k');\n",
    "# m.draw_profile('b');"
   ]
  },
  {
   "cell_type": "markdown",
   "metadata": {},
   "source": [
    "To sum up, [Nino-hist](https://nino-hist.site) allow user to fit data by interacting with [iminuit](https://iminuit.readthedocs.io/en/latest/index.html). Sepcifically, you need to convert your histogram to numpy format, and then [iminuit](https://iminuit.readthedocs.io/en/latest/index.html) will deal with that. With numpy arrays as the media, it's flexible. You can do whatever you want in [iminuit](https://iminuit.readthedocs.io/en/latest/index.html) with the histograms of [Nino-hist](https://nino-hist.site). This is valuable for \"Histogram\" to \"Analysis\" in HEP analyse workflow!"
   ]
  },
  {
   "cell_type": "markdown",
   "metadata": {},
   "source": [
    "## Visualization\n",
    "\n",
    "You can use many tool for [Nino-hist](https://nino-hist.site)'s visualization, because it can be converted to numpy arrays and there are many visualization tools for numpy arrays I firmly believe. But there, our primary focus is its interation with [mplhep](https://github.com/scikit-hep/mplhep).\n",
    "\n",
    "### mplhep Integration"
   ]
  },
  {
   "cell_type": "markdown",
   "metadata": {},
   "source": [
    "Although we can use Matplotlib to visualize our histograms, it should be a better way to do the same thing in a, umm... [(Sckit-HEP)](https://scikit-hep.org/) manner. [mplhep](https://github.com/scikit-hep/mplhep) is a set of helpers for matplotlib to more easily produce plots typically needed in HEP as well as style them in way that's compatible with current collaboration requirements (ROOT).\n",
    "\n",
    "Let's use an example to see how [mplhep](https://github.com/scikit-hep/mplhep) visualizes the histograms in [Nino-hist](https://nino-hist.site).\n",
    "\n",
    "First, create 1-D and 2-D histograms."
   ]
  },
  {
   "cell_type": "code",
   "execution_count": 14,
   "metadata": {},
   "outputs": [
    {
     "data": {
      "text/plain": [
       "Hist(\n",
       "  Regular(500, -3, 3, underflow=False, overflow=False, metadata={'name': 'x_2d', 'title': None}),\n",
       "  Regular(500, -3, 3, underflow=False, overflow=False, metadata={'name': 'y_2d', 'title': None}),\n",
       "  storage=Double()) # Sum: 994660.0"
      ]
     },
     "execution_count": 14,
     "metadata": {},
     "output_type": "execute_result"
    }
   ],
   "source": [
    "import hist\n",
    "import numpy as np\n",
    "import matplotlib.pyplot as plt\n",
    "\n",
    "data_x = np.random.normal(loc=0., scale=1., size=1_000_000)\n",
    "data_y = np.random.normal(loc=0., scale=1., size=1_000_000)\n",
    "\n",
    "h_1d = hist.Hist(\n",
    "    hist.axis.Regular(500, -3, 3, name='x_1d', underflow=False, overflow=False)\n",
    ")\n",
    "\n",
    "h_1d.fill(data_x)\n",
    "\n",
    "h_2d = hist.Hist(\n",
    "    hist.axis.Regular(500, -3, 3, name='x_2d', underflow=False, overflow=False),\n",
    "    hist.axis.Regular(500, -3, 3, name='y_2d', underflow=False, overflow=False)\n",
    ")\n",
    "\n",
    "h_2d.fill(data_x, data_y)"
   ]
  },
  {
   "cell_type": "markdown",
   "metadata": {},
   "source": [
    "Then, we can plot our histogram. ([mplhep](https://github.com/scikit-hep/mplhep) is in its infancy, with a few very single features, but I'm sure there will be better interfaces later.)"
   ]
  },
  {
   "cell_type": "code",
   "execution_count": 15,
   "metadata": {},
   "outputs": [
    {
     "data": {
      "text/plain": [
       "<matplotlib.axes._subplots.AxesSubplot at 0x12d2a5790>"
      ]
     },
     "execution_count": 15,
     "metadata": {},
     "output_type": "execute_result"
    },
    {
     "data": {
      "image/png": "[encoded data removed]",
      "text/plain": [
       "<Figure size 894.24x288 with 3 Axes>"
      ]
     },
     "metadata": {
      "needs_background": "light"
     },
     "output_type": "display_data"
    }
   ],
   "source": [
    "import mplhep\n",
    "\n",
    "# plt.style.use(mplhep.style.LHCb)\n",
    "plt.subplot(121)\n",
    "w, xbins = h_1d.to_numpy()\n",
    "mplhep.histplot(w.T, xbins)\n",
    "\n",
    "plt.subplot(122)\n",
    "w, xbins, ybins = h_2d.to_numpy()\n",
    "mplhep.hist2dplot(w.T, xbins, ybins)"
   ]
  },
  {
   "cell_type": "markdown",
   "metadata": {},
   "source": [
    "To sum up, [Nino-hist](https://nino-hist.site) allow user to visualize data by interacting with [mplhep](https://github.com/scikit-hep/mplhep). Sepcifically, you need to convert your histogram to numpy format, and then [mplhep](https://github.com/scikit-hep/mplhep) will deal with that. With numpy arrays as the media, it's flexible. You can do whatever you want in [mplhep](https://github.com/scikit-hep/mplhep) with the histograms of [Nino-hist](https://nino-hist.site). This is valuable for \"Analysis\" to \"Visualization\" in HEP analyse workflow!"
   ]
  }
 ],
 "metadata": {
  "kernelspec": {
   "display_name": "nino-hist",
   "language": "python",
   "name": "nino-hist"
  },
  "language_info": {
   "codemirror_mode": {
    "name": "ipython",
    "version": 3
   },
   "file_extension": ".py",
   "mimetype": "text/x-python",
   "name": "python",
   "nbconvert_exporter": "python",
   "pygments_lexer": "ipython3",
   "version": "3.7.6"
  }
 },
 "nbformat": 4,
 "nbformat_minor": 4
}
